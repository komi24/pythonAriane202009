{
 "cells": [
  {
   "cell_type": "markdown",
   "metadata": {},
   "source": [
    "## Programmation Orientée Objet"
   ]
  },
  {
   "cell_type": "code",
   "execution_count": 1,
   "metadata": {},
   "outputs": [],
   "source": [
    "class Personne:\n",
    "    def __init__(self):\n",
    "        self.first_name = \"Martin\"\n",
    "        self.last_name = \"Dupont\"\n"
   ]
  },
  {
   "cell_type": "code",
   "execution_count": 4,
   "metadata": {},
   "outputs": [],
   "source": [
    "une_personne = Personne()\n",
    "deuxieme_personne = Personne()\n",
    "une_liste_de_personne = [Personne(), Personne()]"
   ]
  },
  {
   "cell_type": "code",
   "execution_count": 7,
   "metadata": {},
   "outputs": [
    {
     "name": "stdout",
     "output_type": "stream",
     "text": [
      "Martin\n",
      "Martin\n",
      "Alice\n",
      "Martin\n"
     ]
    }
   ],
   "source": [
    "print(une_personne.first_name)\n",
    "print(deuxieme_personne.first_name)\n",
    "\n",
    "une_personne.first_name = \"Alice\"\n",
    "\n",
    "print(une_personne.first_name)\n",
    "print(deuxieme_personne.first_name)\n"
   ]
  },
  {
   "cell_type": "code",
   "execution_count": 9,
   "metadata": {},
   "outputs": [
    {
     "name": "stdout",
     "output_type": "stream",
     "text": [
      "Martin\n",
      "Alice\n"
     ]
    }
   ],
   "source": [
    "class Personne:\n",
    "    def __init__(self, prenom, nom):\n",
    "        self.first_name = prenom\n",
    "        self.last_name = nom\n",
    "\n",
    "une_personne = Personne(\"Martin\", \"Durand\")\n",
    "autre_personne = Personne(\"Alice\", \"Delaunay\")\n",
    "\n",
    "print(une_personne.first_name)\n",
    "print(autre_personne.first_name)"
   ]
  },
  {
   "cell_type": "code",
   "execution_count": 11,
   "metadata": {},
   "outputs": [
    {
     "name": "stdout",
     "output_type": "stream",
     "text": [
      "Durand\n",
      "Delaunay\n"
     ]
    }
   ],
   "source": [
    "class Personne:\n",
    "    def __init__(self, prenom, nom=\"Durand\", age=40):\n",
    "        self.first_name = prenom\n",
    "        self.last_name = nom\n",
    "        self.age = age\n",
    "        \n",
    "une_personne = Personne(\"Martin\")\n",
    "autre_personne = Personne(\"Alice\", \"Delaunay\")\n",
    "\n",
    "print(une_personne.last_name)\n",
    "print(autre_personne.last_name)"
   ]
  },
  {
   "cell_type": "code",
   "execution_count": 52,
   "metadata": {},
   "outputs": [
    {
     "name": "stdout",
     "output_type": "stream",
     "text": [
      "Bonjour Alice Delaunay. Je m'appelle Martin Durand\n"
     ]
    }
   ],
   "source": [
    "class Personne:\n",
    "    def __init__(self, prenom, nom=\"Durand\", age=40, compte=None):\n",
    "        self.first_name = prenom\n",
    "        self.last_name = nom\n",
    "        self.age = age\n",
    "        self.compte = compte\n",
    "    \n",
    "    def dire_bonjour(self, autre):\n",
    "        \"\"\"\n",
    "            Affiche \"Bonjour [prenom de personne] [nom de personne], \n",
    "            je m'appelle [prenom] [nom]\"\n",
    "        \"\"\"\n",
    "        print(\"Bonjour %s %s. Je m'appelle %s %s\" % (\n",
    "            autre.first_name,\n",
    "            autre.last_name,\n",
    "            self.first_name,\n",
    "            self.last_name,\n",
    "        ))\n",
    "#         print(f\"Bonjour {autre.first_name} {autre.last_name}. \" +\n",
    "#               f\"Je m'appelle {self.first_name} {self.last_name}\")\n",
    "    def transfert_a(self, autre, valeur):\n",
    "        self.compte.debiter(valeur)\n",
    "        autre.compte.crediter(valeur)\n",
    "        \n",
    "    def __repr__(self):\n",
    "        return \"Personne : %s %s\"%(self.first_name, self.last_name)\n",
    "    def __lt__(self, autre):\n",
    "        return self.compte < autre.compte\n",
    "    def __eq__(self, autre):\n",
    "        return self.compte == autre.compte\n",
    "        \n",
    "une_personne = Personne(\"Martin\")\n",
    "autre_personne = Personne(\"Alice\", \"Delaunay\")\n",
    "\n",
    "une_personne.dire_bonjour(autre_personne)\n",
    "# autre_personne.dire_bonjour()\n"
   ]
  },
  {
   "cell_type": "code",
   "execution_count": 53,
   "metadata": {},
   "outputs": [],
   "source": [
    "# Créer une classe compte avec comme attribut un solde\n",
    "# et comme méthodes créditer et débiter\n",
    "# Ajouter un compte comme attribut dans la classe personne\n",
    "class Compte:\n",
    "    def __init__(self, solde_initial):\n",
    "        self.solde = solde_initial\n",
    "        \n",
    "    def crediter(self, valeur):\n",
    "        assert valeur >= 0, \"Valeur ne peut pas être négatif\"\n",
    "        self.solde += valeur\n",
    "        \n",
    "    def debiter(self, valeur):\n",
    "        assert valeur >= 0, \"Valeur ne peut pas être négatif\"\n",
    "        assert valeur <= self.solde, \"Solde ne peut pas être négatif\"\n",
    "        self.solde -= valeur\n",
    "        \n",
    "    def __lt__(self, autre):\n",
    "        return self.solde < autre.solde\n",
    "    def __eq__(self, autre):\n",
    "        return self.solde == autre.solde\n",
    "        "
   ]
  },
  {
   "cell_type": "code",
   "execution_count": 54,
   "metadata": {},
   "outputs": [
    {
     "name": "stdout",
     "output_type": "stream",
     "text": [
      "500\n",
      "1500\n",
      "Bonjour Thomas Durand. Je m'appelle Mathilde Durand\n"
     ]
    }
   ],
   "source": [
    "une_personne = Personne(\"Mathilde\", compte=Compte(1000))\n",
    "autre_personne = Personne(\"Thomas\", compte=Compte(1000))\n",
    "une_personne.transfert_a(autre_personne, 500)\n",
    "print(une_personne.compte.solde)\n",
    "print(autre_personne.compte.solde)\n",
    "une_personne.dire_bonjour(autre_personne)"
   ]
  },
  {
   "cell_type": "code",
   "execution_count": 55,
   "metadata": {},
   "outputs": [
    {
     "name": "stdout",
     "output_type": "stream",
     "text": [
      "Personne : Mathilde Durand\n"
     ]
    },
    {
     "data": {
      "text/plain": [
       "True"
      ]
     },
     "execution_count": 55,
     "metadata": {},
     "output_type": "execute_result"
    }
   ],
   "source": [
    "print(une_personne)\n",
    "# Compte(100) > Compte(1000)\n",
    "une_personne < autre_personne"
   ]
  },
  {
   "cell_type": "code",
   "execution_count": 64,
   "metadata": {},
   "outputs": [
    {
     "name": "stdout",
     "output_type": "stream",
     "text": [
      "-1000\n"
     ]
    }
   ],
   "source": [
    "class CompteCheque(Compte):\n",
    "    def __init__(self, solde_initial):\n",
    "        Compte.__init__(self, solde_initial)\n",
    "#         self.solde = solde_initial\n",
    "        self.decouvert_max = 5000\n",
    "    def debiter(self, valeur):\n",
    "        assert valeur >= 0, \"Valeur ne peut pas être négatif\"\n",
    "        assert valeur < self.solde + self.decouvert_max, \"Solde ne peut pas être inférieur au découvert max\"\n",
    "        self.solde -= valeur\n",
    "\n",
    "compte1 = CompteCheque(1000)\n",
    "compte1.debiter(2000)\n",
    "print(compte1.solde)"
   ]
  },
  {
   "cell_type": "code",
   "execution_count": 66,
   "metadata": {},
   "outputs": [
    {
     "name": "stdout",
     "output_type": "stream",
     "text": [
      "1010.0\n"
     ]
    }
   ],
   "source": [
    "class CompteEpargne(Compte):\n",
    "    # Herite de Compte\n",
    "    # Attribut rendement\n",
    "    # Possède la méthode next_year() qui ajoute \n",
    "    # au solde : solde * rendement\n",
    "    def __init__(self, solde_init, rendement=0.01):\n",
    "        Compte.__init__(self, solde_init)\n",
    "        self.rendement = rendement\n",
    "        \n",
    "    def next_year(self):\n",
    "        self.solde += self.rendement * self.solde\n",
    "        \n",
    "compte2 = CompteEpargne(1000)\n",
    "compte2.next_year()\n",
    "print(compte2.solde)"
   ]
  },
  {
   "cell_type": "code",
   "execution_count": 68,
   "metadata": {},
   "outputs": [
    {
     "ename": "AttributeError",
     "evalue": "'CompteEpargne' object has no attribute 'rendement'",
     "output_type": "error",
     "traceback": [
      "\u001b[1;31m---------------------------------------------------------------------------\u001b[0m",
      "\u001b[1;31mAttributeError\u001b[0m                            Traceback (most recent call last)",
      "\u001b[1;32m<ipython-input-68-7ccce6b5565c>\u001b[0m in \u001b[0;36m<module>\u001b[1;34m\u001b[0m\n\u001b[0;32m      1\u001b[0m \u001b[0mcompte1\u001b[0m\u001b[1;33m.\u001b[0m\u001b[0m__class__\u001b[0m \u001b[1;33m=\u001b[0m \u001b[0mCompteEpargne\u001b[0m\u001b[1;33m\u001b[0m\u001b[1;33m\u001b[0m\u001b[0m\n\u001b[1;32m----> 2\u001b[1;33m \u001b[0mcompte1\u001b[0m\u001b[1;33m.\u001b[0m\u001b[0mnext_year\u001b[0m\u001b[1;33m(\u001b[0m\u001b[1;33m)\u001b[0m\u001b[1;33m\u001b[0m\u001b[1;33m\u001b[0m\u001b[0m\n\u001b[0m",
      "\u001b[1;32m<ipython-input-66-6fe7702c4fe8>\u001b[0m in \u001b[0;36mnext_year\u001b[1;34m(self)\u001b[0m\n\u001b[0;32m      9\u001b[0m \u001b[1;33m\u001b[0m\u001b[0m\n\u001b[0;32m     10\u001b[0m     \u001b[1;32mdef\u001b[0m \u001b[0mnext_year\u001b[0m\u001b[1;33m(\u001b[0m\u001b[0mself\u001b[0m\u001b[1;33m)\u001b[0m\u001b[1;33m:\u001b[0m\u001b[1;33m\u001b[0m\u001b[1;33m\u001b[0m\u001b[0m\n\u001b[1;32m---> 11\u001b[1;33m         \u001b[0mself\u001b[0m\u001b[1;33m.\u001b[0m\u001b[0msolde\u001b[0m \u001b[1;33m+=\u001b[0m \u001b[0mself\u001b[0m\u001b[1;33m.\u001b[0m\u001b[0mrendement\u001b[0m \u001b[1;33m*\u001b[0m \u001b[0mself\u001b[0m\u001b[1;33m.\u001b[0m\u001b[0msolde\u001b[0m\u001b[1;33m\u001b[0m\u001b[1;33m\u001b[0m\u001b[0m\n\u001b[0m\u001b[0;32m     12\u001b[0m \u001b[1;33m\u001b[0m\u001b[0m\n\u001b[0;32m     13\u001b[0m \u001b[0mcompte2\u001b[0m \u001b[1;33m=\u001b[0m \u001b[0mCompteEpargne\u001b[0m\u001b[1;33m(\u001b[0m\u001b[1;36m1000\u001b[0m\u001b[1;33m)\u001b[0m\u001b[1;33m\u001b[0m\u001b[1;33m\u001b[0m\u001b[0m\n",
      "\u001b[1;31mAttributeError\u001b[0m: 'CompteEpargne' object has no attribute 'rendement'"
     ]
    }
   ],
   "source": [
    "compte1.__class__ = CompteEpargne\n",
    "compte1.next_year()"
   ]
  },
  {
   "cell_type": "code",
   "execution_count": null,
   "metadata": {},
   "outputs": [],
   "source": []
  }
 ],
 "metadata": {
  "kernelspec": {
   "display_name": "Python 3",
   "language": "python",
   "name": "python3"
  },
  "language_info": {
   "codemirror_mode": {
    "name": "ipython",
    "version": 3
   },
   "file_extension": ".py",
   "mimetype": "text/x-python",
   "name": "python",
   "nbconvert_exporter": "python",
   "pygments_lexer": "ipython3",
   "version": "3.7.3"
  }
 },
 "nbformat": 4,
 "nbformat_minor": 4
}
