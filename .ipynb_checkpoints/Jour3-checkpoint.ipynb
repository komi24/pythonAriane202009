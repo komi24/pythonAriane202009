{
 "cells": [
  {
   "cell_type": "markdown",
   "metadata": {},
   "source": [
    "## Programmation Orientée Objet"
   ]
  },
  {
   "cell_type": "code",
   "execution_count": 1,
   "metadata": {},
   "outputs": [],
   "source": [
    "class Personne:\n",
    "    def __init__(self):\n",
    "        self.first_name = \"Martin\"\n",
    "        self.last_name = \"Dupont\"\n"
   ]
  },
  {
   "cell_type": "code",
   "execution_count": 4,
   "metadata": {},
   "outputs": [],
   "source": [
    "une_personne = Personne()\n",
    "deuxieme_personne = Personne()\n",
    "une_liste_de_personne = [Personne(), Personne()]"
   ]
  },
  {
   "cell_type": "code",
   "execution_count": 7,
   "metadata": {},
   "outputs": [
    {
     "name": "stdout",
     "output_type": "stream",
     "text": [
      "Martin\n",
      "Martin\n",
      "Alice\n",
      "Martin\n"
     ]
    }
   ],
   "source": [
    "print(une_personne.first_name)\n",
    "print(deuxieme_personne.first_name)\n",
    "\n",
    "une_personne.first_name = \"Alice\"\n",
    "\n",
    "print(une_personne.first_name)\n",
    "print(deuxieme_personne.first_name)\n"
   ]
  },
  {
   "cell_type": "code",
   "execution_count": 9,
   "metadata": {},
   "outputs": [
    {
     "name": "stdout",
     "output_type": "stream",
     "text": [
      "Martin\n",
      "Alice\n"
     ]
    }
   ],
   "source": [
    "class Personne:\n",
    "    def __init__(self, prenom, nom):\n",
    "        self.first_name = prenom\n",
    "        self.last_name = nom\n",
    "\n",
    "une_personne = Personne(\"Martin\", \"Durand\")\n",
    "autre_personne = Personne(\"Alice\", \"Delaunay\")\n",
    "\n",
    "print(une_personne.first_name)\n",
    "print(autre_personne.first_name)"
   ]
  },
  {
   "cell_type": "code",
   "execution_count": 11,
   "metadata": {},
   "outputs": [
    {
     "name": "stdout",
     "output_type": "stream",
     "text": [
      "Durand\n",
      "Delaunay\n"
     ]
    }
   ],
   "source": [
    "class Personne:\n",
    "    def __init__(self, prenom, nom=\"Durand\", age=40):\n",
    "        self.first_name = prenom\n",
    "        self.last_name = nom\n",
    "        self.age = age\n",
    "        \n",
    "une_personne = Personne(\"Martin\")\n",
    "autre_personne = Personne(\"Alice\", \"Delaunay\")\n",
    "\n",
    "print(une_personne.last_name)\n",
    "print(autre_personne.last_name)"
   ]
  },
  {
   "cell_type": "code",
   "execution_count": 21,
   "metadata": {},
   "outputs": [
    {
     "name": "stdout",
     "output_type": "stream",
     "text": [
      "Bonjour Alice Delaunay. Je m'appelle Martin Durand\n"
     ]
    }
   ],
   "source": [
    "class Personne:\n",
    "    def __init__(self, prenom, nom=\"Durand\", age=40):\n",
    "        self.first_name = prenom\n",
    "        self.last_name = nom\n",
    "        self.age = age\n",
    "    \n",
    "    def dire_bonjour(self, autre):\n",
    "        \"\"\"\n",
    "            Affiche \"Bonjour [prenom de personne] [nom de personne], \n",
    "            je m'appelle [prenom] [nom]\"\n",
    "        \"\"\"\n",
    "        print(f\"Bonjour {autre.first_name} {autre.last_name}. \" +\n",
    "              f\"Je m'appelle {self.first_name} {self.last_name}\")\n",
    "        \n",
    "une_personne = Personne(\"Martin\")\n",
    "autre_personne = Personne(\"Alice\", \"Delaunay\")\n",
    "\n",
    "une_personne.dire_bonjour(autre_personne)\n",
    "# autre_personne.dire_bonjour()\n"
   ]
  },
  {
   "cell_type": "code",
   "execution_count": null,
   "metadata": {},
   "outputs": [],
   "source": [
    "# Créer une classe compte avec comme attribut un solde\n",
    "# et comme méthodes créditer et débiter\n",
    "# Ajouter un compte comme attribut dans la classe personne\n"
   ]
  }
 ],
 "metadata": {
  "kernelspec": {
   "display_name": "Python 3",
   "language": "python",
   "name": "python3"
  },
  "language_info": {
   "codemirror_mode": {
    "name": "ipython",
    "version": 3
   },
   "file_extension": ".py",
   "mimetype": "text/x-python",
   "name": "python",
   "nbconvert_exporter": "python",
   "pygments_lexer": "ipython3",
   "version": "3.7.3"
  }
 },
 "nbformat": 4,
 "nbformat_minor": 4
}
