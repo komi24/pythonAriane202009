{
 "cells": [
  {
   "cell_type": "code",
   "execution_count": 9,
   "metadata": {},
   "outputs": [],
   "source": [
    "from tkinter import *\n",
    "\n",
    "fen = Tk()\n",
    "\n",
    "label = Label(fen, text=\"Salut\")\n",
    "label.pack()\n",
    "\n",
    "button1 = Button(fen, text=\"Bouton 1\")\n",
    "button1.pack(side=RIGHT)\n",
    "\n",
    "button2 = Button(fen, text=\"Bouton 2\")\n",
    "button2.pack(side=BOTTOM)\n",
    "\n",
    "button3 = Button(fen, text=\"Bouton 3\")\n",
    "button3.pack(side=BOTTOM)\n",
    "\n",
    "fen.mainloop()\n"
   ]
  },
  {
   "cell_type": "code",
   "execution_count": 12,
   "metadata": {},
   "outputs": [],
   "source": [
    "from tkinter import *\n",
    "\n",
    "fen = Tk()\n",
    "\n",
    "button1 = Button(fen, text=\"Bouton 1\")\n",
    "button1.grid(row=0, column=0)\n",
    "\n",
    "button2 = Button(fen, text=\"Bouton 2\")\n",
    "button2.grid(row=1, column=0)\n",
    "\n",
    "button3 = Button(fen, text=\"Bouton 3\")\n",
    "button3.grid(row=0, column=1)\n",
    "\n",
    "fen.mainloop()\n"
   ]
  },
  {
   "cell_type": "code",
   "execution_count": 14,
   "metadata": {},
   "outputs": [],
   "source": [
    "from tkinter import *\n",
    "\n",
    "fen = Tk()\n",
    "\n",
    "label = Label(fen, text=\"Salut\")\n",
    "label.pack()\n",
    "\n",
    "frame_button = Frame(fen)\n",
    "frame_button.pack()\n",
    "\n",
    "\n",
    "button1 = Button(frame_button, text=\"Bouton 1\")\n",
    "button1.grid(row=0, column=0)\n",
    "\n",
    "button2 = Button(frame_button, text=\"Bouton 2\")\n",
    "button2.grid(row=1, column=0)\n",
    "\n",
    "button3 = Button(frame_button, text=\"Bouton 3\")\n",
    "button3.grid(row=0, column=1)\n",
    "\n",
    "fen.mainloop()\n"
   ]
  },
  {
   "cell_type": "code",
   "execution_count": 40,
   "metadata": {},
   "outputs": [
    {
     "name": "stdout",
     "output_type": "stream",
     "text": [
      "4\n",
      "7\n",
      "8\n",
      "5\n",
      "2\n"
     ]
    }
   ],
   "source": [
    "from tkinter import *\n",
    "from itertools import product\n",
    "\n",
    "class MonBouton(Button):\n",
    "    def __init__(self, root, value, width=8, height=4):\n",
    "        Button.__init__(self, root, text=str(value), width=width, height=height)\n",
    "        self.value = value\n",
    "\n",
    "fen = Tk()\n",
    "\n",
    "chaine = StringVar()\n",
    "chaine.set(\"0\")\n",
    "\n",
    "def print_hello(evt):\n",
    "    chaine.set(\"1\")\n",
    "    print(evt.widget.value)\n",
    "\n",
    "\n",
    "label = Label(fen, textvariable=chaine, height=4)\n",
    "label.pack()\n",
    "\n",
    "frame_ops = Frame(fen)\n",
    "frame_ops.pack(side=RIGHT)\n",
    "\n",
    "frame_button = Frame(fen)\n",
    "frame_button.pack()\n",
    "\n",
    "for (i,j) in product(range(3), range(3)):\n",
    "    button1 = MonBouton(frame_button, value=3*(2-i)+j+1, width=8, height=4)\n",
    "    button1.bind(\"<Button-1>\", print_hello)\n",
    "    button1.grid(row=i, column=j)\n",
    "\n",
    "for op in [\"+\",\"-\",\"*\",\"/\"]:\n",
    "    button1 = Button(frame_ops, text=op, width=8, height=4)\n",
    "    button1.pack()\n",
    "\n",
    "button1 = MonBouton(fen, value=0, width=8, height=4)\n",
    "button1.pack(side=BOTTOM, fill=BOTH)\n",
    "\n",
    "fen.mainloop()\n"
   ]
  },
  {
   "cell_type": "code",
   "execution_count": 47,
   "metadata": {},
   "outputs": [],
   "source": [
    "from tkinter import *\n",
    "from itertools import product\n",
    "\n",
    "class MonBouton(Button):\n",
    "    def __init__(self, root, value, width=8, height=4):\n",
    "        Button.__init__(self, root, text=str(value), width=width, height=height)\n",
    "        self.value = value\n",
    "\n",
    "class CalculatriceUI:\n",
    "    def __init__(self):\n",
    "        self.fen = Tk()\n",
    "        self.displayed_value = StringVar()\n",
    "\n",
    "        self.label = Label(self.fen,\n",
    "                           textvariable=self.displayed_value,\n",
    "                           height=4)\n",
    "        self.label.pack()\n",
    "\n",
    "        self.frame_ops = Frame(self.fen)\n",
    "        self.frame_ops.pack(side=RIGHT)\n",
    "\n",
    "        self.frame_button = Frame(self.fen)\n",
    "        self.frame_button.pack()\n",
    "\n",
    "        for (i,j) in product(range(3), range(3)):\n",
    "            button1 = MonBouton(self.frame_button, value=3*(2-i)+j+1)\n",
    "            button1.bind(\"<Button-1>\", self.num_button_pressed)\n",
    "            button1.grid(row=i, column=j)\n",
    "\n",
    "        for op in [\"+\",\"-\",\"*\",\"/\"]:\n",
    "            button1 = Button(self.frame_ops, text=op, width=8, height=4)\n",
    "            button1.pack()\n",
    "\n",
    "        button1 = MonBouton(self.fen, value=0)\n",
    "        button1.pack(side=BOTTOM, fill=BOTH)\n",
    "\n",
    "    def start(self):\n",
    "        self.fen.mainloop()\n",
    "        \n",
    "    def op_button_pressed(self, evt):\n",
    "        pass\n",
    "    def num_button_pressed(self, evt):\n",
    "        pass\n",
    "    def process(self, evt):\n",
    "        pass\n"
   ]
  },
  {
   "cell_type": "code",
   "execution_count": 48,
   "metadata": {},
   "outputs": [],
   "source": [
    "calc = CalculatriceUI()"
   ]
  },
  {
   "cell_type": "code",
   "execution_count": 49,
   "metadata": {},
   "outputs": [],
   "source": [
    "calc.start()"
   ]
  },
  {
   "cell_type": "code",
   "execution_count": 50,
   "metadata": {},
   "outputs": [
    {
     "name": "stdout",
     "output_type": "stream",
     "text": [
      "4\n",
      "7\n"
     ]
    }
   ],
   "source": [
    "class Calculatrice(CalculatriceUI):\n",
    "    def __init__(self):\n",
    "        \"\"\"\n",
    "        Initialize Calc UI\n",
    "        \"\"\"\n",
    "        CalculatriceUI.__init__(self)\n",
    "        self.total = 0\n",
    "        self.value = 0\n",
    "    \n",
    "    def op_button_pressed(self, evt):\n",
    "        pass\n",
    "    \n",
    "    def num_button_pressed(self, evt):\n",
    "        print(evt.widget.value)\n",
    "    \n",
    "    def process(self, evt):\n",
    "        pass\n",
    "    \n",
    "calc = Calculatrice()\n",
    "calc.start()\n",
    "# class OpButton(Button):\n",
    "#     pass\n",
    "\n",
    "\n",
    "# class NumButton(Button):\n",
    "#     pass"
   ]
  },
  {
   "cell_type": "code",
   "execution_count": null,
   "metadata": {},
   "outputs": [],
   "source": []
  }
 ],
 "metadata": {
  "kernelspec": {
   "display_name": "Python 3",
   "language": "python",
   "name": "python3"
  },
  "language_info": {
   "codemirror_mode": {
    "name": "ipython",
    "version": 3
   },
   "file_extension": ".py",
   "mimetype": "text/x-python",
   "name": "python",
   "nbconvert_exporter": "python",
   "pygments_lexer": "ipython3",
   "version": "3.7.3"
  }
 },
 "nbformat": 4,
 "nbformat_minor": 4
}
