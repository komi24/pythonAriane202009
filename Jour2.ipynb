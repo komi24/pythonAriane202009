{
 "cells": [
  {
   "cell_type": "markdown",
   "metadata": {},
   "source": [
    "## Dichotomie\n",
    "\n",
    "* Ecrire un programme qui vous permet de deviner un nombre\n",
    "mystère qu'il génère aléatoirement\n",
    "\n",
    "* Ecrire un programme qui trouve un nombre \n",
    "mystère (entre 0 et 100) que vous avez en tête\n",
    "\n"
   ]
  },
  {
   "cell_type": "code",
   "execution_count": 1,
   "metadata": {},
   "outputs": [
    {
     "name": "stdout",
     "output_type": "stream",
     "text": [
      "Devinez le nombre mystère :50\n",
      "Propostion trop grande\n",
      "Devinez le nombre mystère :25\n",
      "Propostion trop grande\n",
      "Devinez le nombre mystère :12\n",
      "Propostion trop grande\n",
      "Devinez le nombre mystère :6\n",
      "Vous avez gagné !!\n"
     ]
    }
   ],
   "source": [
    "from random import randint\n",
    "\n",
    "nb_mystere = randint(0,100)\n",
    "proposition = -1\n",
    "\n",
    "while proposition != nb_mystere:\n",
    "    proposition = int(input(\"Devinez le nombre mystère :\"))\n",
    "    if proposition < nb_mystere:\n",
    "        print(\"Proposition trop petite\")\n",
    "    elif proposition > nb_mystere:\n",
    "        print(\"Propostion trop grande\")\n",
    "    else:\n",
    "        print(\"Vous avez gagné !!\")"
   ]
  },
  {
   "cell_type": "code",
   "execution_count": 1,
   "metadata": {},
   "outputs": [
    {
     "name": "stdout",
     "output_type": "stream",
     "text": [
      "Est-ce que le nombre est 50 ? +/-/=+\n",
      "Est-ce que le nombre est 75 ? +/-/=+\n",
      "Est-ce que le nombre est 88 ? +/-/=+\n",
      "Est-ce que le nombre est 94 ? +/-/=+\n",
      "Est-ce que le nombre est 97 ? +/-/=+\n",
      "Est-ce que le nombre est 99 ? +/-/=+\n",
      "Est-ce que le nombre est 100 ? +/-/=+\n",
      "Est-ce que le nombre est 100 ? +/-/==\n",
      "Gagné !!\n"
     ]
    }
   ],
   "source": [
    "borne_min = 0\n",
    "borne_max = 101\n",
    "\n",
    "proposition = (borne_min + borne_max ) // 2\n",
    "reponse = None\n",
    "\n",
    "while reponse != \"=\":\n",
    "    reponse = input(f\"Est-ce que le nombre est {proposition} ? +/-/=\")\n",
    "    if reponse == \"+\":\n",
    "        borne_min = proposition\n",
    "    elif reponse == \"-\":\n",
    "        borne_max = proposition\n",
    "    \n",
    "    proposition = (borne_min + borne_max ) // 2\n",
    "    \n",
    "print(\"Gagné !!\")"
   ]
  },
  {
   "cell_type": "code",
   "execution_count": 1,
   "metadata": {},
   "outputs": [
    {
     "name": "stdout",
     "output_type": "stream",
     "text": [
      "10\n",
      "pair\n",
      "9\n",
      "fin du bloc\n",
      "8\n",
      "pair\n",
      "7\n",
      "fin du bloc\n",
      "6\n",
      "pair\n",
      "5\n",
      "fin du bloc\n",
      "4\n",
      "pair\n",
      "3\n",
      "fin du bloc\n",
      "2\n",
      "pair\n",
      "1\n",
      "fin du bloc\n"
     ]
    }
   ],
   "source": [
    "i = 10\n",
    "while i > 0:\n",
    "    print(i)\n",
    "    if i % 2 == 0:\n",
    "        print(\"pair\")\n",
    "        i -= 1\n",
    "        continue\n",
    "    print(\"fin du bloc\")\n",
    "    i -= 1\n",
    "    "
   ]
  },
  {
   "cell_type": "code",
   "execution_count": 2,
   "metadata": {},
   "outputs": [
    {
     "name": "stdout",
     "output_type": "stream",
     "text": [
      "10\n",
      "pair\n"
     ]
    }
   ],
   "source": [
    "i = 10\n",
    "while i > 0:\n",
    "    print(i)\n",
    "    if i % 2 == 0:\n",
    "        print(\"pair\")\n",
    "        i -= 1\n",
    "        break\n",
    "    print(\"fin du bloc\")\n",
    "    i -= 1\n",
    "    "
   ]
  },
  {
   "cell_type": "code",
   "execution_count": 3,
   "metadata": {},
   "outputs": [
    {
     "name": "stdout",
     "output_type": "stream",
     "text": [
      "[6, 2, 3, 4, [5, 6]]\n"
     ]
    }
   ],
   "source": [
    "a = [ 1,2,3,4,[5,6]]\n",
    "b = a\n",
    "b[0] = 6\n",
    "print(a)"
   ]
  },
  {
   "cell_type": "code",
   "execution_count": 4,
   "metadata": {},
   "outputs": [
    {
     "name": "stdout",
     "output_type": "stream",
     "text": [
      "[1, 2, 3, 4, [5, 6]]\n"
     ]
    }
   ],
   "source": [
    "a = [ 1,2,3,4,[5,6]]\n",
    "b = list(a)\n",
    "b[0] = 6\n",
    "print(a)"
   ]
  },
  {
   "cell_type": "code",
   "execution_count": 5,
   "metadata": {},
   "outputs": [
    {
     "name": "stdout",
     "output_type": "stream",
     "text": [
      "[1, 2, 3, 4, [16, 6]]\n"
     ]
    }
   ],
   "source": [
    "a = [ 1,2,3,4,[5,6]]\n",
    "b = list(a)\n",
    "b[-1][0] = 16\n",
    "print(a)"
   ]
  },
  {
   "cell_type": "code",
   "execution_count": 8,
   "metadata": {},
   "outputs": [
    {
     "name": "stdout",
     "output_type": "stream",
     "text": [
      "1\n",
      "2\n",
      "3\n",
      "4\n",
      "[16, 6]\n"
     ]
    }
   ],
   "source": [
    "def print_values(liste):\n",
    "    for i in liste:\n",
    "        print(i)\n",
    "\n",
    "print_values(a)"
   ]
  },
  {
   "cell_type": "code",
   "execution_count": 11,
   "metadata": {},
   "outputs": [
    {
     "name": "stdout",
     "output_type": "stream",
     "text": [
      "1\n",
      "2\n",
      "3\n",
      "4\n",
      "[16, 6]\n",
      "[2, 2, 3, 4, [16, 6]]\n"
     ]
    }
   ],
   "source": [
    "def print_values_and_change_it(liste):\n",
    "    for i in liste:\n",
    "        print(i)\n",
    "    liste[0] *= 2\n",
    "\n",
    "print_values_and_change_it(a)\n",
    "print(a)"
   ]
  },
  {
   "cell_type": "code",
   "execution_count": 16,
   "metadata": {},
   "outputs": [
    {
     "name": "stdout",
     "output_type": "stream",
     "text": [
      "Il y a eu une erreur\n",
      "fin\n"
     ]
    }
   ],
   "source": [
    "def print_values(liste):\n",
    "    assert type(liste) == list, \"First argument must be a list\"\n",
    "    print(\"bonjour\")\n",
    "    for i in liste:\n",
    "        print(i)\n",
    "\n",
    "try:\n",
    "    print_values(4)\n",
    "except:\n",
    "    print(\"Il y a eu une erreur\")\n",
    "finally:\n",
    "    print(\"execute\")\n",
    "print(\"fin\")"
   ]
  },
  {
   "cell_type": "markdown",
   "metadata": {},
   "source": [
    "## Tri bulle\n",
    "\n"
   ]
  },
  {
   "cell_type": "code",
   "execution_count": null,
   "metadata": {},
   "outputs": [],
   "source": [
    "def tri_bulle(a):\n",
    "    "
   ]
  }
 ],
 "metadata": {
  "kernelspec": {
   "display_name": "Python 3",
   "language": "python",
   "name": "python3"
  },
  "language_info": {
   "codemirror_mode": {
    "name": "ipython",
    "version": 3
   },
   "file_extension": ".py",
   "mimetype": "text/x-python",
   "name": "python",
   "nbconvert_exporter": "python",
   "pygments_lexer": "ipython3",
   "version": "3.7.3"
  }
 },
 "nbformat": 4,
 "nbformat_minor": 4
}
