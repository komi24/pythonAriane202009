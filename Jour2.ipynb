{
 "cells": [
  {
   "cell_type": "markdown",
   "metadata": {},
   "source": [
    "## Dichotomie\n",
    "\n",
    "* Ecrire un programme qui vous permet de deviner un nombre\n",
    "mystère qu'il génère aléatoirement\n",
    "\n",
    "* Ecrire un programme qui trouve un nombre \n",
    "mystère (entre 0 et 100) que vous avez en tête\n",
    "\n"
   ]
  },
  {
   "cell_type": "code",
   "execution_count": 1,
   "metadata": {},
   "outputs": [
    {
     "name": "stdout",
     "output_type": "stream",
     "text": [
      "Devinez le nombre mystère :50\n",
      "Propostion trop grande\n",
      "Devinez le nombre mystère :25\n",
      "Propostion trop grande\n",
      "Devinez le nombre mystère :12\n",
      "Propostion trop grande\n",
      "Devinez le nombre mystère :6\n",
      "Vous avez gagné !!\n"
     ]
    }
   ],
   "source": [
    "from random import randint\n",
    "\n",
    "nb_mystere = randint(0,100)\n",
    "proposition = -1\n",
    "\n",
    "while proposition != nb_mystere:\n",
    "    proposition = int(input(\"Devinez le nombre mystère :\"))\n",
    "    if proposition < nb_mystere:\n",
    "        print(\"Proposition trop petite\")\n",
    "    elif proposition > nb_mystere:\n",
    "        print(\"Propostion trop grande\")\n",
    "    else:\n",
    "        print(\"Vous avez gagné !!\")"
   ]
  },
  {
   "cell_type": "code",
   "execution_count": 1,
   "metadata": {},
   "outputs": [
    {
     "name": "stdout",
     "output_type": "stream",
     "text": [
      "Est-ce que le nombre est 50 ? +/-/=+\n",
      "Est-ce que le nombre est 75 ? +/-/=+\n",
      "Est-ce que le nombre est 88 ? +/-/=+\n",
      "Est-ce que le nombre est 94 ? +/-/=+\n",
      "Est-ce que le nombre est 97 ? +/-/=+\n",
      "Est-ce que le nombre est 99 ? +/-/=+\n",
      "Est-ce que le nombre est 100 ? +/-/=+\n",
      "Est-ce que le nombre est 100 ? +/-/==\n",
      "Gagné !!\n"
     ]
    }
   ],
   "source": [
    "borne_min = 0\n",
    "borne_max = 101\n",
    "\n",
    "proposition = (borne_min + borne_max ) // 2\n",
    "reponse = None\n",
    "\n",
    "while reponse != \"=\":\n",
    "    reponse = input(f\"Est-ce que le nombre est {proposition} ? +/-/=\")\n",
    "    if reponse == \"+\":\n",
    "        borne_min = proposition\n",
    "    elif reponse == \"-\":\n",
    "        borne_max = proposition\n",
    "    \n",
    "    proposition = (borne_min + borne_max ) // 2\n",
    "    \n",
    "print(\"Gagné !!\")"
   ]
  },
  {
   "cell_type": "code",
   "execution_count": 1,
   "metadata": {},
   "outputs": [
    {
     "name": "stdout",
     "output_type": "stream",
     "text": [
      "10\n",
      "pair\n",
      "9\n",
      "fin du bloc\n",
      "8\n",
      "pair\n",
      "7\n",
      "fin du bloc\n",
      "6\n",
      "pair\n",
      "5\n",
      "fin du bloc\n",
      "4\n",
      "pair\n",
      "3\n",
      "fin du bloc\n",
      "2\n",
      "pair\n",
      "1\n",
      "fin du bloc\n"
     ]
    }
   ],
   "source": [
    "i = 10\n",
    "while i > 0:\n",
    "    print(i)\n",
    "    if i % 2 == 0:\n",
    "        print(\"pair\")\n",
    "        i -= 1\n",
    "        continue\n",
    "    print(\"fin du bloc\")\n",
    "    i -= 1\n",
    "    "
   ]
  },
  {
   "cell_type": "code",
   "execution_count": 2,
   "metadata": {},
   "outputs": [
    {
     "name": "stdout",
     "output_type": "stream",
     "text": [
      "10\n",
      "pair\n"
     ]
    }
   ],
   "source": [
    "i = 10\n",
    "while i > 0:\n",
    "    print(i)\n",
    "    if i % 2 == 0:\n",
    "        print(\"pair\")\n",
    "        i -= 1\n",
    "        break\n",
    "    print(\"fin du bloc\")\n",
    "    i -= 1\n",
    "    "
   ]
  },
  {
   "cell_type": "code",
   "execution_count": 3,
   "metadata": {},
   "outputs": [
    {
     "name": "stdout",
     "output_type": "stream",
     "text": [
      "[6, 2, 3, 4, [5, 6]]\n"
     ]
    }
   ],
   "source": [
    "a = [ 1,2,3,4,[5,6]]\n",
    "b = a\n",
    "b[0] = 6\n",
    "print(a)"
   ]
  },
  {
   "cell_type": "code",
   "execution_count": 4,
   "metadata": {},
   "outputs": [
    {
     "name": "stdout",
     "output_type": "stream",
     "text": [
      "[1, 2, 3, 4, [5, 6]]\n"
     ]
    }
   ],
   "source": [
    "a = [ 1,2,3,4,[5,6]]\n",
    "b = list(a)\n",
    "b[0] = 6\n",
    "print(a)"
   ]
  },
  {
   "cell_type": "code",
   "execution_count": 5,
   "metadata": {},
   "outputs": [
    {
     "name": "stdout",
     "output_type": "stream",
     "text": [
      "[1, 2, 3, 4, [16, 6]]\n"
     ]
    }
   ],
   "source": [
    "a = [ 1,2,3,4,[5,6]]\n",
    "b = list(a)\n",
    "b[-1][0] = 16\n",
    "print(a)"
   ]
  },
  {
   "cell_type": "code",
   "execution_count": 8,
   "metadata": {},
   "outputs": [
    {
     "name": "stdout",
     "output_type": "stream",
     "text": [
      "1\n",
      "2\n",
      "3\n",
      "4\n",
      "[16, 6]\n"
     ]
    }
   ],
   "source": [
    "def print_values(liste):\n",
    "    for i in liste:\n",
    "        print(i)\n",
    "\n",
    "print_values(a)"
   ]
  },
  {
   "cell_type": "code",
   "execution_count": 11,
   "metadata": {},
   "outputs": [
    {
     "name": "stdout",
     "output_type": "stream",
     "text": [
      "1\n",
      "2\n",
      "3\n",
      "4\n",
      "[16, 6]\n",
      "[2, 2, 3, 4, [16, 6]]\n"
     ]
    }
   ],
   "source": [
    "def print_values_and_change_it(liste):\n",
    "    for i in liste:\n",
    "        print(i)\n",
    "    liste[0] *= 2\n",
    "\n",
    "print_values_and_change_it(a)\n",
    "print(a)"
   ]
  },
  {
   "cell_type": "code",
   "execution_count": 16,
   "metadata": {},
   "outputs": [
    {
     "name": "stdout",
     "output_type": "stream",
     "text": [
      "Il y a eu une erreur\n",
      "fin\n"
     ]
    }
   ],
   "source": [
    "def print_values(liste):\n",
    "    assert type(liste) == list, \"First argument must be a list\"\n",
    "    print(\"bonjour\")\n",
    "    for i in liste:\n",
    "        print(i)\n",
    "\n",
    "try:\n",
    "    print_values(4)\n",
    "except:\n",
    "    print(\"Il y a eu une erreur\")\n",
    "finally:\n",
    "    print(\"execute\")\n",
    "print(\"fin\")"
   ]
  },
  {
   "cell_type": "markdown",
   "metadata": {},
   "source": [
    "## Tri bulle\n",
    "\n"
   ]
  },
  {
   "cell_type": "code",
   "execution_count": 25,
   "metadata": {},
   "outputs": [
    {
     "name": "stdout",
     "output_type": "stream",
     "text": [
      "2\n",
      "4\n"
     ]
    }
   ],
   "source": [
    "a, b = 2, 4\n",
    "print(a)\n",
    "print(b)\n",
    "def tri_bulle(list_input):\n",
    "    for j in range(len(list_input)-1):\n",
    "        for i in range(len(list_input)-1):\n",
    "            if list_input[i] > list_input[i+1]:\n",
    "    #             tmp = list_input[i]\n",
    "    #             list_input[i] = list_input[i+1]\n",
    "    #             list_input[i+1] = tmp\n",
    "                list_input[i], list_input[i+1] = list_input[i+1], list_input[i]"
   ]
  },
  {
   "cell_type": "code",
   "execution_count": 26,
   "metadata": {},
   "outputs": [
    {
     "data": {
      "text/plain": [
       "[0, 1, 2, 4, 8, 9]"
      ]
     },
     "execution_count": 26,
     "metadata": {},
     "output_type": "execute_result"
    }
   ],
   "source": [
    "a = [4,2,1,9,8,0]\n",
    "tri_bulle(a)\n",
    "a"
   ]
  },
  {
   "cell_type": "code",
   "execution_count": 28,
   "metadata": {},
   "outputs": [
    {
     "name": "stdout",
     "output_type": "stream",
     "text": [
      "indice : 0, element : 4\n",
      "indice : 1, element : 2\n",
      "indice : 2, element : 1\n",
      "indice : 3, element : 9\n",
      "indice : 4, element : 8\n",
      "indice : 5, element : 0\n"
     ]
    }
   ],
   "source": [
    "a = [4,2,1,9,8,0]\n",
    "\n",
    "for (i, elm) in enumerate(a):\n",
    "    print(f\"indice : {i}, element : {elm}\")\n",
    "    "
   ]
  },
  {
   "cell_type": "code",
   "execution_count": 33,
   "metadata": {},
   "outputs": [
    {
     "data": {
      "text/plain": [
       "tuple"
      ]
     },
     "execution_count": 33,
     "metadata": {},
     "output_type": "execute_result"
    }
   ],
   "source": [
    "a = (1, 4)\n",
    "\n",
    "# a[0] = 14 # error\n",
    "a = (5, 9)\n",
    "type(a)"
   ]
  },
  {
   "cell_type": "code",
   "execution_count": 34,
   "metadata": {},
   "outputs": [
    {
     "name": "stdout",
     "output_type": "stream",
     "text": [
      "element 1 : 4, element 2 : 8\n",
      "element 1 : 2, element 2 : 1\n",
      "element 1 : 1, element 2 : 2\n",
      "element 1 : 9, element 2 : 9\n",
      "element 1 : 8, element 2 : 3\n",
      "element 1 : 0, element 2 : 12\n"
     ]
    }
   ],
   "source": [
    "a = [4,2,1,9,8,0]\n",
    "b = [8,1,2,9,3,12]\n",
    "\n",
    "for (i, j) in zip(a, b):\n",
    "    print(f\"element 1 : {i}, element 2 : {j}\")\n",
    "    "
   ]
  },
  {
   "cell_type": "code",
   "execution_count": 35,
   "metadata": {},
   "outputs": [
    {
     "name": "stdout",
     "output_type": "stream",
     "text": [
      "alpha: 4, beta: 8, score: 32\n",
      "alpha: 4, beta: 1, score: 4\n",
      "alpha: 4, beta: 2, score: 8\n",
      "alpha: 4, beta: 9, score: 36\n",
      "alpha: 4, beta: 3, score: 12\n",
      "alpha: 4, beta: 12, score: 48\n",
      "alpha: 2, beta: 8, score: 16\n",
      "alpha: 2, beta: 1, score: 2\n",
      "alpha: 2, beta: 2, score: 4\n",
      "alpha: 2, beta: 9, score: 18\n",
      "alpha: 2, beta: 3, score: 6\n",
      "alpha: 2, beta: 12, score: 24\n",
      "alpha: 1, beta: 8, score: 8\n",
      "alpha: 1, beta: 1, score: 1\n",
      "alpha: 1, beta: 2, score: 2\n",
      "alpha: 1, beta: 9, score: 9\n",
      "alpha: 1, beta: 3, score: 3\n",
      "alpha: 1, beta: 12, score: 12\n",
      "alpha: 9, beta: 8, score: 72\n",
      "alpha: 9, beta: 1, score: 9\n",
      "alpha: 9, beta: 2, score: 18\n",
      "alpha: 9, beta: 9, score: 81\n",
      "alpha: 9, beta: 3, score: 27\n",
      "alpha: 9, beta: 12, score: 108\n",
      "alpha: 8, beta: 8, score: 64\n",
      "alpha: 8, beta: 1, score: 8\n",
      "alpha: 8, beta: 2, score: 16\n",
      "alpha: 8, beta: 9, score: 72\n",
      "alpha: 8, beta: 3, score: 24\n",
      "alpha: 8, beta: 12, score: 96\n",
      "alpha: 0, beta: 8, score: 0\n",
      "alpha: 0, beta: 1, score: 0\n",
      "alpha: 0, beta: 2, score: 0\n",
      "alpha: 0, beta: 9, score: 0\n",
      "alpha: 0, beta: 3, score: 0\n",
      "alpha: 0, beta: 12, score: 0\n"
     ]
    }
   ],
   "source": [
    "from itertools import product\n",
    "\n",
    "a = [4,2,1,9,8,0]\n",
    "b = [8,1,2,9,3,12]\n",
    "\n",
    "def score(a, b):\n",
    "    return a * b\n",
    "\n",
    "for (alpha, beta) in product(a,b):\n",
    "    s = score(alpha, beta)\n",
    "    print(f\"alpha: {alpha}, beta: {beta}, score: {s}\")"
   ]
  },
  {
   "cell_type": "code",
   "execution_count": null,
   "metadata": {},
   "outputs": [],
   "source": []
  }
 ],
 "metadata": {
  "kernelspec": {
   "display_name": "Python 3",
   "language": "python",
   "name": "python3"
  },
  "language_info": {
   "codemirror_mode": {
    "name": "ipython",
    "version": 3
   },
   "file_extension": ".py",
   "mimetype": "text/x-python",
   "name": "python",
   "nbconvert_exporter": "python",
   "pygments_lexer": "ipython3",
   "version": "3.7.3"
  }
 },
 "nbformat": 4,
 "nbformat_minor": 4
}
