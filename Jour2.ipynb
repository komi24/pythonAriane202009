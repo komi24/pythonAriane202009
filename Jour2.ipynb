{
 "cells": [
  {
   "cell_type": "markdown",
   "metadata": {},
   "source": [
    "## Dichotomie\n",
    "\n",
    "* Ecrire un programme qui vous permet de deviner un nombre\n",
    "mystère qu'il génère aléatoirement\n",
    "\n",
    "* Ecrire un programme qui trouve un nombre \n",
    "mystère (entre 0 et 100) que vous avez en tête\n",
    "\n"
   ]
  },
  {
   "cell_type": "code",
   "execution_count": 1,
   "metadata": {},
   "outputs": [
    {
     "name": "stdout",
     "output_type": "stream",
     "text": [
      "Devinez le nombre mystère :50\n",
      "Propostion trop grande\n",
      "Devinez le nombre mystère :25\n",
      "Propostion trop grande\n",
      "Devinez le nombre mystère :12\n",
      "Propostion trop grande\n",
      "Devinez le nombre mystère :6\n",
      "Vous avez gagné !!\n"
     ]
    }
   ],
   "source": [
    "from random import randint\n",
    "\n",
    "nb_mystere = randint(0,100)\n",
    "proposition = -1\n",
    "\n",
    "while proposition != nb_mystere:\n",
    "    proposition = int(input(\"Devinez le nombre mystère :\"))\n",
    "    if proposition < nb_mystere:\n",
    "        print(\"Proposition trop petite\")\n",
    "    elif proposition > nb_mystere:\n",
    "        print(\"Propostion trop grande\")\n",
    "    else:\n",
    "        print(\"Vous avez gagné !!\")"
   ]
  },
  {
   "cell_type": "code",
   "execution_count": 1,
   "metadata": {},
   "outputs": [
    {
     "name": "stdout",
     "output_type": "stream",
     "text": [
      "Est-ce que le nombre est 50 ? +/-/=+\n",
      "Est-ce que le nombre est 75 ? +/-/=+\n",
      "Est-ce que le nombre est 88 ? +/-/=+\n",
      "Est-ce que le nombre est 94 ? +/-/=+\n",
      "Est-ce que le nombre est 97 ? +/-/=+\n",
      "Est-ce que le nombre est 99 ? +/-/=+\n",
      "Est-ce que le nombre est 100 ? +/-/=+\n",
      "Est-ce que le nombre est 100 ? +/-/==\n",
      "Gagné !!\n"
     ]
    }
   ],
   "source": [
    "borne_min = 0\n",
    "borne_max = 101\n",
    "\n",
    "proposition = (borne_min + borne_max ) // 2\n",
    "reponse = None\n",
    "\n",
    "while reponse != \"=\":\n",
    "    reponse = input(f\"Est-ce que le nombre est {proposition} ? +/-/=\")\n",
    "    if reponse == \"+\":\n",
    "        borne_min = proposition\n",
    "    elif reponse == \"-\":\n",
    "        borne_max = proposition\n",
    "    \n",
    "    proposition = (borne_min + borne_max ) // 2\n",
    "    \n",
    "print(\"Gagné !!\")"
   ]
  },
  {
   "cell_type": "code",
   "execution_count": null,
   "metadata": {},
   "outputs": [],
   "source": []
  },
  {
   "cell_type": "code",
   "execution_count": null,
   "metadata": {},
   "outputs": [],
   "source": []
  }
 ],
 "metadata": {
  "kernelspec": {
   "display_name": "Python 3",
   "language": "python",
   "name": "python3"
  },
  "language_info": {
   "codemirror_mode": {
    "name": "ipython",
    "version": 3
   },
   "file_extension": ".py",
   "mimetype": "text/x-python",
   "name": "python",
   "nbconvert_exporter": "python",
   "pygments_lexer": "ipython3",
   "version": "3.7.3"
  }
 },
 "nbformat": 4,
 "nbformat_minor": 4
}
