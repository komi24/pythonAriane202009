{
 "cells": [
  {
   "cell_type": "code",
   "execution_count": 9,
   "metadata": {},
   "outputs": [],
   "source": [
    "from tkinter import *\n",
    "\n",
    "fen = Tk()\n",
    "\n",
    "label = Label(fen, text=\"Salut\")\n",
    "label.pack()\n",
    "\n",
    "button1 = Button(fen, text=\"Bouton 1\")\n",
    "button1.pack(side=RIGHT)\n",
    "\n",
    "button2 = Button(fen, text=\"Bouton 2\")\n",
    "button2.pack(side=BOTTOM)\n",
    "\n",
    "button3 = Button(fen, text=\"Bouton 3\")\n",
    "button3.pack(side=BOTTOM)\n",
    "\n",
    "fen.mainloop()\n"
   ]
  },
  {
   "cell_type": "code",
   "execution_count": 12,
   "metadata": {},
   "outputs": [],
   "source": [
    "from tkinter import *\n",
    "\n",
    "fen = Tk()\n",
    "\n",
    "button1 = Button(fen, text=\"Bouton 1\")\n",
    "button1.grid(row=0, column=0)\n",
    "\n",
    "button2 = Button(fen, text=\"Bouton 2\")\n",
    "button2.grid(row=1, column=0)\n",
    "\n",
    "button3 = Button(fen, text=\"Bouton 3\")\n",
    "button3.grid(row=0, column=1)\n",
    "\n",
    "fen.mainloop()\n"
   ]
  },
  {
   "cell_type": "code",
   "execution_count": 14,
   "metadata": {},
   "outputs": [],
   "source": [
    "from tkinter import *\n",
    "\n",
    "fen = Tk()\n",
    "\n",
    "label = Label(fen, text=\"Salut\")\n",
    "label.pack()\n",
    "\n",
    "frame_button = Frame(fen)\n",
    "frame_button.pack()\n",
    "\n",
    "\n",
    "button1 = Button(frame_button, text=\"Bouton 1\")\n",
    "button1.grid(row=0, column=0)\n",
    "\n",
    "button2 = Button(frame_button, text=\"Bouton 2\")\n",
    "button2.grid(row=1, column=0)\n",
    "\n",
    "button3 = Button(frame_button, text=\"Bouton 3\")\n",
    "button3.grid(row=0, column=1)\n",
    "\n",
    "fen.mainloop()\n"
   ]
  },
  {
   "cell_type": "code",
   "execution_count": 30,
   "metadata": {},
   "outputs": [],
   "source": [
    "from tkinter import *\n",
    "from itertools import product\n",
    "\n",
    "\n",
    "fen = Tk()\n",
    "\n",
    "label = Label(fen, text=\"Salut\")\n",
    "label.pack()\n",
    "\n",
    "frame_ops = Frame(fen)\n",
    "frame_ops.pack(side=RIGHT)\n",
    "\n",
    "frame_button = Frame(fen)\n",
    "frame_button.pack()\n",
    "\n",
    "for (i,j) in product(range(3), range(3)):\n",
    "    button1 = Button(frame_button, text=str(3*(2-i)+j+1), width=8, height=4)\n",
    "    button1.grid(row=i, column=j)\n",
    "\n",
    "for op in [\"+\",\"-\",\"*\",\"/\"]:\n",
    "    button1 = Button(frame_ops, text=op, width=8, height=4)\n",
    "    button1.pack()\n",
    "\n",
    "button1 = Button(fen, text=\"0\", width=8, height=4)\n",
    "button1.pack(side=BOTTOM, fill=BOTH)\n",
    "\n",
    "fen.mainloop()\n"
   ]
  },
  {
   "cell_type": "code",
   "execution_count": null,
   "metadata": {},
   "outputs": [],
   "source": []
  }
 ],
 "metadata": {
  "kernelspec": {
   "display_name": "Python 3",
   "language": "python",
   "name": "python3"
  },
  "language_info": {
   "codemirror_mode": {
    "name": "ipython",
    "version": 3
   },
   "file_extension": ".py",
   "mimetype": "text/x-python",
   "name": "python",
   "nbconvert_exporter": "python",
   "pygments_lexer": "ipython3",
   "version": "3.7.3"
  }
 },
 "nbformat": 4,
 "nbformat_minor": 4
}
